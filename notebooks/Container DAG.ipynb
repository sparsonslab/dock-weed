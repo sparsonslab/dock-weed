{
 "cells": [
  {
   "cell_type": "markdown",
   "id": "2f3c502a",
   "metadata": {},
   "source": [
    "# Container DAG\n",
    "\n",
    "\n",
    "https://docker-py.readthedocs.io/en/stable/index.html\n",
    "\n",
    "https://docs.docker.com/reference/cli/docker/"
   ]
  },
  {
   "cell_type": "code",
   "execution_count": 9,
   "id": "f8b0d547",
   "metadata": {},
   "outputs": [],
   "source": [
    "from abc import ABCMeta, abstractmethod\n",
    "import json\n",
    "import random\n",
    "import subprocess\n",
    "import sys\n",
    "\n",
    "from docker import from_env"
   ]
  },
  {
   "cell_type": "code",
   "execution_count": 2,
   "id": "c0e40615",
   "metadata": {},
   "outputs": [],
   "source": [
    "sys.path.append(\"../src\")\n",
    "\n",
    "from topology.topological_sort import kahns_algorithm"
   ]
  },
  {
   "cell_type": "markdown",
   "id": "b45ddb01",
   "metadata": {},
   "source": [
    "## Open Docker client"
   ]
  },
  {
   "cell_type": "code",
   "execution_count": 3,
   "id": "d718cf24",
   "metadata": {},
   "outputs": [],
   "source": [
    "client = from_env()"
   ]
  },
  {
   "cell_type": "markdown",
   "id": "0d705700",
   "metadata": {},
   "source": [
    "### Get container processes"
   ]
  },
  {
   "cell_type": "code",
   "execution_count": 15,
   "id": "262d861a",
   "metadata": {},
   "outputs": [],
   "source": [
    "class NodeContainer:\n",
    "    \"\"\" The container associated with one or more nodes.\n",
    "    \n",
    "    Attributes\n",
    "    ----------\n",
    "    image: str\n",
    "        The image \"name:tag\".\n",
    "    name: str\n",
    "        The container name. The container will only actually exist after calling self.start().\n",
    "    \"\"\"\n",
    "    def __init__(self, image_tag):\n",
    "        self.image = image_tag\n",
    "        self.name = image_tag.split(\":\")[0]\n",
    "    \n",
    "    def start(self):\n",
    "        \"\"\" Start the container in detached mode. \"\"\"\n",
    "        cmd = f\"docker run --name {self.name} -i -d {self.image}\"\n",
    "        _ = subprocess.run(cmd, shell=True)\n",
    "        \n",
    "    def stop(self):\n",
    "        \"\"\" Stop the container and remove it. \"\"\"\n",
    "        cmd = f\"docker rm {self.name} -f\"\n",
    "        _ = subprocess.run(cmd, shell=True)\n",
    "        \n",
    "        \n",
    "class NodeProcess:\n",
    "    \n",
    "    def __init__(\n",
    "        self, \n",
    "        name: str, \n",
    "        description: str, \n",
    "        inputs: dict, \n",
    "        outputs: dict\n",
    "    ):\n",
    "        self.name = name\n",
    "        self.description = description\n",
    "        self.inputs = inputs\n",
    "        self.outputs = outputs\n",
    "        \n",
    "    @abstractmethod\n",
    "    def run(self, inputs: dict) -> dict:\n",
    "        pass\n",
    "\n",
    "            \n",
    "class ContainerProcess(NodeProcess):\n",
    "    \"\"\" A node.\n",
    "    \n",
    "    Attributes\n",
    "    ----------\n",
    "    name: str\n",
    "        Name of the process. This is the key of an image label.\n",
    "    container: str\n",
    "        The name of the container that runs the node.    \n",
    "    command: str\n",
    "        The command to the container that runs the node. This is the image label value.\n",
    "    inputs: dict\n",
    "        A template of input arguments to the node (inputs to its command).\n",
    "    outputs: dict\n",
    "        A template of output arguments to the node (outputs to its command).\n",
    "    \"\"\"\n",
    "               \n",
    "    def __init__(\n",
    "        self, \n",
    "        name: str, \n",
    "        description: str, \n",
    "        inputs: dict, \n",
    "        outputs: dict,\n",
    "        container: str,\n",
    "        command: str,\n",
    "    ):\n",
    "        self.container = container\n",
    "        self.command = command\n",
    "        super().__init__(name=name, description=description, inputs=inputs, outputs=outputs)\n",
    "        \n",
    "        \n",
    "    def run(self, inputs: dict) -> dict:\n",
    "        \n",
    "        # Check inputs\n",
    "        # ???????\n",
    "        \n",
    "        # Pipe the inputs into the node's command.\n",
    "        cmd = f\"echo '{json.dumps(inputs)}' | docker exec -i {self.container} {self.command}\"\n",
    "        result = subprocess.run(cmd, shell=True, stdin=subprocess.PIPE, stdout=subprocess.PIPE)\n",
    "        \n",
    "        # Get the output JSON.\n",
    "        try:\n",
    "            return json.loads(result.stdout)\n",
    "        except json.decoder.JSONDecodeError:\n",
    "            return {}\n",
    "        \n",
    "               \n",
    "class UniformFloatProcess(NodeProcess):\n",
    "    \n",
    "    def __init__(self):\n",
    "        super().__init__(\n",
    "            name=\"random float\", \n",
    "            description=f\"A uniformly distributed random float.\", \n",
    "            inputs={\"min\": 0.0, \"max\": 1.0}, \n",
    "            outputs={\"n\": 0.5}\n",
    "        )\n",
    "        \n",
    "    def run(self, inputs: dict) -> dict:\n",
    "        return {\"n\": random.uniform(inputs[\"min\"], inputs[\"max\"])}\n",
    "               \n",
    "class RandomChoice(NodeProcess):\n",
    "    \n",
    "    def __init__(self):\n",
    "        super().__init__(\n",
    "            name=\"random choice\", \n",
    "            description=f\"A rnadom choice.\", \n",
    "            inputs={\"choices\": [1, 2, 3, 4]}, \n",
    "            outputs={\"choice\": 1}\n",
    "        )\n",
    "        \n",
    "    def run(self, inputs: dict) -> dict:\n",
    "        return {\"choice\": random.choice(inputs[\"choices\"])}\n",
    "        "
   ]
  },
  {
   "cell_type": "code",
   "execution_count": 16,
   "id": "6efeffd1",
   "metadata": {},
   "outputs": [
    {
     "name": "stdout",
     "output_type": "stream",
     "text": [
      "['multiple_divide', 'add_subtract']\n",
      "['process.c_divide', 'process.c_multiply', 'process.python_add', 'process.python_subtract']\n"
     ]
    }
   ],
   "source": [
    "containers = []\n",
    "processes = {}\n",
    "# Loop through images. \n",
    "# Exclude intermediate layer images (all=False) and dangling images.\n",
    "for image in client.images.list(all=False, filters={\"dangling\":False}):\n",
    "    \n",
    "    # Image tag\n",
    "    tags = image.tags\n",
    "    if not tags:\n",
    "        continue\n",
    "    image_tag = tags[0]\n",
    "    \n",
    "    # Labels with node names and commands.\n",
    "    labels = image.attrs['ContainerConfig']['Labels']\n",
    "    if labels is None:\n",
    "        continue\n",
    "    process_cmd = {name: cmd for name, cmd in labels.items() if name.startswith(\"process.\")}\n",
    "    if not process_cmd:\n",
    "        continue\n",
    "        \n",
    "    # Processes\n",
    "    for name, cmd in process_cmd.items():\n",
    "        # Container should have no entry point, or this will call the entrypoint rather than label command.\n",
    "        result = client.containers.run(image=image_tag, command=cmd, remove=True, stdout=True)\n",
    "        try:\n",
    "            dic = json.loads(result)\n",
    "            if \"description\" in dic and \"outputs\" in dic and \"inputs\" in dic:\n",
    "                \n",
    "                if not containers or containers[-1].image != image_tag:\n",
    "                    container = NodeContainer(image_tag=tags[0])\n",
    "                    containers.append(container) \n",
    "                \n",
    "                processes[name] = ContainerProcess(\n",
    "                    name = name,\n",
    "                    description = dic[\"description\"],\n",
    "                    container = containers[-1].name,\n",
    "                    command = cmd,\n",
    "                    inputs = dic[\"inputs\"],\n",
    "                    outputs = dic[\"outputs\"]\n",
    "                )    \n",
    "        except json.decoder.JSONDecodeError:\n",
    "            continue\n",
    "    \n",
    "print([container.name for container in containers])\n",
    "print([process.name for process in processes.values()])"
   ]
  },
  {
   "cell_type": "markdown",
   "id": "58a5240c",
   "metadata": {},
   "source": [
    "### Start containers"
   ]
  },
  {
   "cell_type": "code",
   "execution_count": 17,
   "id": "2c531c4c",
   "metadata": {},
   "outputs": [
    {
     "name": "stdout",
     "output_type": "stream",
     "text": [
      "aed6bc4e50e4e607ab3f16fd15e85d1b02dafeb39d9aaf11cae96c36ea2cd34f\n",
      "238f88bea2719103d8859a659258741e82e8777e06092f79968291d352606344\n"
     ]
    }
   ],
   "source": [
    "for container in containers:\n",
    "    container.start()"
   ]
  },
  {
   "cell_type": "markdown",
   "id": "b580955b",
   "metadata": {},
   "source": [
    "### Add generator processes"
   ]
  },
  {
   "cell_type": "code",
   "execution_count": 18,
   "id": "0a22a1ea",
   "metadata": {},
   "outputs": [],
   "source": [
    "processes[\"random float\"] = UniformFloatProcess()\n",
    "processes[\"random choice\"] = RandomChoice()"
   ]
  },
  {
   "cell_type": "markdown",
   "id": "d83fa908",
   "metadata": {},
   "source": [
    "### Information about processes"
   ]
  },
  {
   "cell_type": "code",
   "execution_count": 19,
   "id": "568744e4",
   "metadata": {},
   "outputs": [
    {
     "name": "stdout",
     "output_type": "stream",
     "text": [
      "------------------------------\n",
      "#0 process.c_divide\n",
      "\tDivision. z = a / b\n",
      "\tinputs = {'a': 1.0, 'b': 1.0}\n",
      "\toutputs = {'z': 1.0}\n",
      "------------------------------\n",
      "#1 process.c_multiply\n",
      "\tMultiplication. z = a * b\n",
      "\tinputs = {'a': 1.0, 'b': 1.0}\n",
      "\toutputs = {'z': 1.0}\n",
      "------------------------------\n",
      "#2 process.python_add\n",
      "\tAddition. z = x + y.\n",
      "\tinputs = {'x': 1.0, 'y': 1.0}\n",
      "\toutputs = {'z': 1.0}\n",
      "------------------------------\n",
      "#3 process.python_subtract\n",
      "\tAddition. z = x + y.\n",
      "\tinputs = {'x': 1.0, 'y': 1.0}\n",
      "\toutputs = {'z': 1.0}\n",
      "------------------------------\n",
      "#4 random float\n",
      "\tA uniformly distributed random float.\n",
      "\tinputs = {'min': 0.0, 'max': 1.0}\n",
      "\toutputs = {'n': 0.5}\n",
      "------------------------------\n",
      "#5 random choice\n",
      "\tA rnadom choice.\n",
      "\tinputs = {'choices': [1, 2, 3, 4]}\n",
      "\toutputs = {'choice': 1}\n"
     ]
    }
   ],
   "source": [
    "for i, process in enumerate(processes.values()):\n",
    "    print(\"-\"*30)\n",
    "    print(f\"#{i} {process.name}\")\n",
    "    print(f\"\\t{process.description}\")\n",
    "    print(f\"\\tinputs = {process.inputs}\")\n",
    "    print(f\"\\toutputs = {process.outputs}\")"
   ]
  },
  {
   "cell_type": "markdown",
   "id": "61964257",
   "metadata": {},
   "source": [
    "### Run individual processes"
   ]
  },
  {
   "cell_type": "code",
   "execution_count": 22,
   "id": "e9208d84",
   "metadata": {},
   "outputs": [
    {
     "data": {
      "text/plain": [
       "{'z': 13.12}"
      ]
     },
     "execution_count": 22,
     "metadata": {},
     "output_type": "execute_result"
    }
   ],
   "source": [
    "processes[\"process.python_add\"].run({'x': 2.34, 'y': 10.78})"
   ]
  },
  {
   "cell_type": "code",
   "execution_count": 14,
   "id": "e60676ab",
   "metadata": {},
   "outputs": [
    {
     "data": {
      "text/plain": [
       "{'x': 899.8699951171875}"
      ]
     },
     "execution_count": 14,
     "metadata": {},
     "output_type": "execute_result"
    }
   ],
   "source": [
    "processes[\"process.c_multiply\"].run({'a': 89.987, 'b': 10.0})"
   ]
  },
  {
   "cell_type": "code",
   "execution_count": 31,
   "id": "fa3b9d56",
   "metadata": {},
   "outputs": [
    {
     "name": "stdout",
     "output_type": "stream",
     "text": [
      "{'choice': 3}\n",
      "{'choice': 4}\n",
      "{'choice': 4}\n",
      "{'choice': 8}\n",
      "{'choice': 8}\n",
      "{'choice': 8}\n",
      "{'choice': 3}\n",
      "{'choice': 3}\n",
      "{'choice': 8}\n",
      "{'choice': 3}\n"
     ]
    }
   ],
   "source": [
    "for _ in range(10):\n",
    "    x = processes[\"random choice\"].run({'choices': [3, 4, 8]})\n",
    "    print(x)"
   ]
  },
  {
   "cell_type": "markdown",
   "id": "bb9a6d8c",
   "metadata": {},
   "source": [
    "### Run a graph of processes"
   ]
  },
  {
   "cell_type": "markdown",
   "id": "0fede546",
   "metadata": {},
   "source": [
    "#### Specify the graph"
   ]
  },
  {
   "cell_type": "code",
   "execution_count": 22,
   "id": "6fc3bcfc",
   "metadata": {},
   "outputs": [],
   "source": [
    "graph_specification = {\n",
    "    \"node alpha\": {\n",
    "        \"process\": \"random choice\",\n",
    "        \"inputs\": {'choices': [1.2, 5.4, 6.7]}\n",
    "    },\n",
    "    \"node beta\": {\n",
    "        \"process\": \"random float\",\n",
    "        \"inputs\": {\"min\": -5.0, \"max\": 5.0}\n",
    "    },\n",
    "    \"node a\": {\n",
    "        \"process\": \"process.python_add\",\n",
    "        \"inputs\": {'x': (\"node alpha\", \"choice\"), 'y': 16.5}\n",
    "    },\n",
    "    \"node b\": {\n",
    "        \"process\": \"process.python_add\",\n",
    "        \"inputs\": {'x': (\"node a\", \"z\"), 'y': (\"node beta\", \"n\")}\n",
    "    },\n",
    "    \"node c\": {\n",
    "        \"process\": \"process.c_divide\",\n",
    "        \"inputs\": {'a': (\"node a\", \"z\"), 'b': (\"node b\", \"z\")}\n",
    "    },\n",
    "}"
   ]
  },
  {
   "cell_type": "markdown",
   "id": "47e64c4e",
   "metadata": {},
   "source": [
    "#### Get the topological (execution) order of the nodes"
   ]
  },
  {
   "cell_type": "code",
   "execution_count": 23,
   "id": "bab802c0",
   "metadata": {},
   "outputs": [
    {
     "data": {
      "text/plain": [
       "{'node alpha': [],\n",
       " 'node beta': [],\n",
       " 'node a': ['node alpha'],\n",
       " 'node b': ['node a', 'node beta'],\n",
       " 'node c': ['node a', 'node b']}"
      ]
     },
     "execution_count": 23,
     "metadata": {},
     "output_type": "execute_result"
    }
   ],
   "source": [
    "graph_topology = {}\n",
    "    \n",
    "for node, content in graph_specification.items():\n",
    "    if \"inputs\" not in content or \"process\" not in content or not isinstance(content[\"inputs\"], dict):\n",
    "        continue\n",
    "        \n",
    "    graph_topology[node] = [\n",
    "        value[0]\n",
    "        for input_name, value in content[\"inputs\"].items()\n",
    "        if isinstance(value, tuple)\n",
    "    ]\n",
    "    \n",
    "graph_topology"
   ]
  },
  {
   "cell_type": "code",
   "execution_count": 24,
   "id": "d8cb6be7",
   "metadata": {},
   "outputs": [
    {
     "data": {
      "text/plain": [
       "['node alpha', 'node beta', 'node a', 'node b', 'node c']"
      ]
     },
     "execution_count": 24,
     "metadata": {},
     "output_type": "execute_result"
    }
   ],
   "source": [
    "topological_order = kahns_algorithm(graph_topology, incoming=True)\n",
    "topological_order"
   ]
  },
  {
   "cell_type": "markdown",
   "id": "9d40e4c1",
   "metadata": {},
   "source": [
    "#### Execute the graph"
   ]
  },
  {
   "cell_type": "code",
   "execution_count": 40,
   "id": "d7e6df76",
   "metadata": {},
   "outputs": [
    {
     "name": "stdout",
     "output_type": "stream",
     "text": [
      "--------------------\n",
      "{'node alpha': {'choices': [1.2, 5.4, 6.7]}, 'node beta': {'min': -5.0, 'max': 5.0}, 'node a': {'x': 1.2, 'y': 16.5}, 'node b': {'x': 17.7, 'y': -2.5297371678600324}, 'node c': {'a': 17.7, 'b': 15.170262832139967}}\n",
      "--------------------\n",
      "{'node alpha': {'choice': 1.2}, 'node beta': {'n': -2.5297371678600324}, 'node a': {'z': 17.7}, 'node b': {'z': 15.170262832139967}, 'node c': {'x': 1.1667563915252686}}\n"
     ]
    }
   ],
   "source": [
    "inputs = {}\n",
    "outputs = {}\n",
    "\n",
    "for node in topological_order:\n",
    "    \n",
    "    # Find node's process.\n",
    "    process_name = graph_specification[node][\"process\"]\n",
    "    if process_name not in processes:\n",
    "        raise KeyError(f\"No process called {process_name}.\")\n",
    "    process_obj = processes[process_name]\n",
    "\n",
    "    # Substitute tuple inputs with outputs from prior nodes.\n",
    "    inputs[node] = graph_specification[node][\"inputs\"].copy()\n",
    "    for input_name, value in inputs[node].items():\n",
    "        if not isinstance(value, tuple):\n",
    "            continue\n",
    "        try:\n",
    "            incoming_node = value[0]\n",
    "            incoming_variable = value[1]\n",
    "            incoming_value = outputs[incoming_node][incoming_variable]\n",
    "            inputs[node][input_name] = incoming_value\n",
    "        except KeyError:\n",
    "            raise KeyError(f\"Invalid inputs for\")\n",
    "        \n",
    "    # Execute, storing the outputs.\n",
    "    outputs[node] = process_obj.run(inputs[node])\n",
    "    \n",
    "print(\"-\"*20)\n",
    "print(inputs)\n",
    "print(\"-\"*20)\n",
    "print(outputs)"
   ]
  },
  {
   "cell_type": "markdown",
   "id": "fecb45c5",
   "metadata": {},
   "source": [
    "### Stop containers"
   ]
  },
  {
   "cell_type": "code",
   "execution_count": 38,
   "id": "cef2d5f9",
   "metadata": {},
   "outputs": [
    {
     "name": "stdout",
     "output_type": "stream",
     "text": [
      "multiple_divide\n",
      "add_subtract\n"
     ]
    }
   ],
   "source": [
    "for container in containers:\n",
    "    container.stop()"
   ]
  },
  {
   "cell_type": "code",
   "execution_count": null,
   "id": "441b9bd3",
   "metadata": {
    "collapsed": true
   },
   "outputs": [],
   "source": [
    "# echo '{\"x\": 11.98769, \"y\": 186.78}' | docker exec -i some-node-a python run.py\n"
   ]
  },
  {
   "cell_type": "markdown",
   "id": "3106d3fc",
   "metadata": {},
   "source": [
    "## Close client"
   ]
  },
  {
   "cell_type": "code",
   "execution_count": 39,
   "id": "ab228ec8",
   "metadata": {},
   "outputs": [],
   "source": [
    "client.close()"
   ]
  },
  {
   "cell_type": "code",
   "execution_count": null,
   "id": "5ffb66f1",
   "metadata": {
    "collapsed": true
   },
   "outputs": [],
   "source": []
  },
  {
   "cell_type": "code",
   "execution_count": null,
   "id": "61dd109f",
   "metadata": {
    "collapsed": true
   },
   "outputs": [],
   "source": []
  }
 ],
 "metadata": {
  "kernelspec": {
   "display_name": "Python 3 (ipykernel)",
   "language": "python",
   "name": "python3"
  },
  "language_info": {
   "codemirror_mode": {
    "name": "ipython",
    "version": 3
   },
   "file_extension": ".py",
   "mimetype": "text/x-python",
   "name": "python",
   "nbconvert_exporter": "python",
   "pygments_lexer": "ipython3",
   "version": "3.7.1"
  }
 },
 "nbformat": 4,
 "nbformat_minor": 5
}
