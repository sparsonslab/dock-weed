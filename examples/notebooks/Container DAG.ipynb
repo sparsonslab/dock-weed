{
 "cells": [
  {
   "cell_type": "markdown",
   "id": "2f3c502a",
   "metadata": {},
   "source": [
    "# Container DAG\n",
    "\n",
    "\n",
    "https://docker-py.readthedocs.io/en/stable/index.html\n",
    "\n",
    "https://docs.docker.com/reference/cli/docker/"
   ]
  },
  {
   "cell_type": "code",
   "execution_count": 1,
   "id": "f8b0d547",
   "metadata": {},
   "outputs": [],
   "source": [
    "from abc import ABCMeta, abstractmethod\n",
    "import json\n",
    "import random\n",
    "import subprocess\n",
    "import sys\n",
    "\n",
    "from docker import from_env\n",
    "\n",
    "import nevergrad as ng"
   ]
  },
  {
   "cell_type": "code",
   "execution_count": 2,
   "id": "c0e40615",
   "metadata": {},
   "outputs": [],
   "source": [
    "sys.path.append(\"../../src\")\n",
    "\n",
    "from dockweed.topological_sort import kahns_algorithm\n",
    "from dockweed.process import *\n",
    "from dockweed.container import *"
   ]
  },
  {
   "cell_type": "markdown",
   "id": "b45ddb01",
   "metadata": {},
   "source": [
    "## Open Docker client"
   ]
  },
  {
   "cell_type": "code",
   "execution_count": 5,
   "id": "d718cf24",
   "metadata": {},
   "outputs": [],
   "source": [
    "client = from_env()"
   ]
  },
  {
   "cell_type": "markdown",
   "id": "0d705700",
   "metadata": {},
   "source": [
    "### Get container processes"
   ]
  },
  {
   "cell_type": "code",
   "execution_count": 47,
   "id": "6efeffd1",
   "metadata": {},
   "outputs": [
    {
     "name": "stdout",
     "output_type": "stream",
     "text": [
      "['multiple_divide', 'add_subtract']\n",
      "['process.c_divide', 'process.c_multiply', 'process.python_add', 'process.python_subtract']\n"
     ]
    }
   ],
   "source": [
    "containers = []\n",
    "processes = {}\n",
    "# Loop through images. \n",
    "# Exclude intermediate layer images (all=False) and dangling images.\n",
    "for image in client.images.list(all=False, filters={\"dangling\":False}):\n",
    "    \n",
    "    # Image tag\n",
    "    tags = image.tags\n",
    "    if not tags:\n",
    "        continue\n",
    "    image_tag = tags[0]\n",
    "    \n",
    "    # Labels with node names and commands.\n",
    "    labels = image.attrs['ContainerConfig']['Labels']\n",
    "    if labels is None:\n",
    "        continue\n",
    "    process_cmd = {name: cmd for name, cmd in labels.items() if name.startswith(\"process.\")}\n",
    "    if not process_cmd:\n",
    "        continue\n",
    "        \n",
    "    # Processes\n",
    "    for name, cmd in process_cmd.items():\n",
    "        # Container should have no entry point, or this will call the entrypoint rather than label command.\n",
    "        result = client.containers.run(image=image_tag, command=cmd, remove=True, stdout=True)\n",
    "        try:\n",
    "            dic = json.loads(result)\n",
    "            if \"description\" in dic and \"outputs\" in dic and \"inputs\" in dic:\n",
    "                \n",
    "                if not containers or containers[-1].image != image_tag:\n",
    "                    container = NodeContainer(image_tag=tags[0])\n",
    "                    containers.append(container) \n",
    "                \n",
    "                processes[name] = ContainerProcess(\n",
    "                    name = name,\n",
    "                    description = dic[\"description\"],\n",
    "                    container = containers[-1].name,\n",
    "                    command = cmd,\n",
    "                    inputs = dic[\"inputs\"],\n",
    "                    outputs = dic[\"outputs\"]\n",
    "                )    \n",
    "        except json.decoder.JSONDecodeError:\n",
    "            continue\n",
    "    \n",
    "print([container.name for container in containers])\n",
    "print([process.name for process in processes.values()])"
   ]
  },
  {
   "cell_type": "markdown",
   "id": "58a5240c",
   "metadata": {},
   "source": [
    "### Start containers"
   ]
  },
  {
   "cell_type": "code",
   "execution_count": 48,
   "id": "2c531c4c",
   "metadata": {},
   "outputs": [
    {
     "name": "stdout",
     "output_type": "stream",
     "text": [
      "ca231b060af38450507658a08f36ea2d89139ee4969a2e3c56e153843ad30a03\n",
      "05100b6afcc0387f2e4b30e11cc2cc03fee354c71a71903d36580044db0feb0d\n"
     ]
    }
   ],
   "source": [
    "for container in containers:\n",
    "    container.start()"
   ]
  },
  {
   "cell_type": "markdown",
   "id": "b580955b",
   "metadata": {},
   "source": [
    "### Add generator processes"
   ]
  },
  {
   "cell_type": "code",
   "execution_count": 49,
   "id": "0a22a1ea",
   "metadata": {},
   "outputs": [],
   "source": [
    "processes[\"random float\"] = UniformFloatProcess()\n",
    "processes[\"random choice\"] = RandomChoice()"
   ]
  },
  {
   "cell_type": "markdown",
   "id": "d83fa908",
   "metadata": {},
   "source": [
    "### Information about processes"
   ]
  },
  {
   "cell_type": "code",
   "execution_count": 50,
   "id": "568744e4",
   "metadata": {},
   "outputs": [
    {
     "name": "stdout",
     "output_type": "stream",
     "text": [
      "------------------------------\n",
      "#0 process.c_divide\n",
      "\tDivision. z = a / b\n",
      "\tinputs = {'a': 1.0, 'b': 1.0}\n",
      "\toutputs = {'z': 1.0}\n",
      "------------------------------\n",
      "#1 process.c_multiply\n",
      "\tMultiplication. z = a * b\n",
      "\tinputs = {'a': 1.0, 'b': 1.0}\n",
      "\toutputs = {'z': 1.0}\n",
      "------------------------------\n",
      "#2 process.python_add\n",
      "\tAddition. z = x + y.\n",
      "\tinputs = {'x': 1.0, 'y': 1.0}\n",
      "\toutputs = {'z': 1.0}\n",
      "------------------------------\n",
      "#3 process.python_subtract\n",
      "\tAddition. z = x + y.\n",
      "\tinputs = {'x': 1.0, 'y': 1.0}\n",
      "\toutputs = {'z': 1.0}\n",
      "------------------------------\n",
      "#4 random float\n",
      "\tA uniformly distributed random float.\n",
      "\tinputs = {'min': 0.0, 'max': 1.0}\n",
      "\toutputs = {'n': 0.5}\n",
      "------------------------------\n",
      "#5 random choice\n",
      "\tA rnadom choice.\n",
      "\tinputs = {'choices': [1, 2, 3, 4]}\n",
      "\toutputs = {'choice': 1}\n"
     ]
    }
   ],
   "source": [
    "for i, process in enumerate(processes.values()):\n",
    "    print(\"-\"*30)\n",
    "    print(f\"#{i} {process.name}\")\n",
    "    print(f\"\\t{process.description}\")\n",
    "    print(f\"\\tinputs = {process.inputs}\")\n",
    "    print(f\"\\toutputs = {process.outputs}\")"
   ]
  },
  {
   "cell_type": "markdown",
   "id": "61964257",
   "metadata": {},
   "source": [
    "### Run individual processes"
   ]
  },
  {
   "cell_type": "code",
   "execution_count": 51,
   "id": "e9208d84",
   "metadata": {},
   "outputs": [
    {
     "data": {
      "text/plain": [
       "{'z': 13.12}"
      ]
     },
     "execution_count": 51,
     "metadata": {},
     "output_type": "execute_result"
    }
   ],
   "source": [
    "processes[\"process.python_add\"].run({'x': 2.34, 'y': 10.78})"
   ]
  },
  {
   "cell_type": "code",
   "execution_count": 52,
   "id": "e60676ab",
   "metadata": {},
   "outputs": [
    {
     "data": {
      "text/plain": [
       "{'z': 899.8699951171875}"
      ]
     },
     "execution_count": 52,
     "metadata": {},
     "output_type": "execute_result"
    }
   ],
   "source": [
    "processes[\"process.c_multiply\"].run({'a': 89.987, 'b': 10.0})"
   ]
  },
  {
   "cell_type": "code",
   "execution_count": 53,
   "id": "fa3b9d56",
   "metadata": {},
   "outputs": [
    {
     "name": "stdout",
     "output_type": "stream",
     "text": [
      "{'choice': 4}\n",
      "{'choice': 8}\n",
      "{'choice': 4}\n",
      "{'choice': 3}\n",
      "{'choice': 4}\n",
      "{'choice': 8}\n",
      "{'choice': 3}\n",
      "{'choice': 4}\n",
      "{'choice': 8}\n",
      "{'choice': 3}\n"
     ]
    }
   ],
   "source": [
    "for _ in range(10):\n",
    "    x = processes[\"random choice\"].run({'choices': [3, 4, 8]})\n",
    "    print(x)"
   ]
  },
  {
   "cell_type": "markdown",
   "id": "bb9a6d8c",
   "metadata": {},
   "source": [
    "### Run a graph of processes"
   ]
  },
  {
   "cell_type": "markdown",
   "id": "0fede546",
   "metadata": {},
   "source": [
    "#### Specify the graph"
   ]
  },
  {
   "cell_type": "code",
   "execution_count": 85,
   "id": "6fc3bcfc",
   "metadata": {},
   "outputs": [],
   "source": [
    "graph_specification = {\n",
    "    \"node alpha\": {\n",
    "        \"process\": \"random choice\",\n",
    "        \"inputs\": {'choices': [1.2, 5.4, 6.7]}\n",
    "    },\n",
    "    \"node beta\": {\n",
    "        \"process\": \"random float\",\n",
    "        \"inputs\": {\"min\": -5.0, \"max\": 5.0}\n",
    "    },\n",
    "    \"node a\": {\n",
    "        \"process\": \"process.python_add\",\n",
    "        \"inputs\": {'x': (\"node alpha\", \"choice\"), 'y': 16.5}\n",
    "    },\n",
    "    \"node b\": {\n",
    "        \"process\": \"process.python_add\",\n",
    "        \"inputs\": {'x': (\"node a\", \"z\"), 'y': (\"node beta\", \"n\")}\n",
    "    },\n",
    "    \"node c\": {\n",
    "        \"process\": \"process.c_divide\",\n",
    "        \"inputs\": {'a': (\"node a\", \"z\"), 'b': (\"node b\", \"z\")}\n",
    "    },\n",
    "}"
   ]
  },
  {
   "cell_type": "code",
   "execution_count": 80,
   "id": "135cc1b7",
   "metadata": {},
   "outputs": [],
   "source": [
    "graph_specification = {\n",
    "    \"node a\": {\n",
    "        \"process\": \"process.python_add\",\n",
    "        \"inputs\": {'x': 2.1, 'y': 16.5}\n",
    "    },\n",
    "    \"node b\": {\n",
    "        \"process\": \"process.python_add\",\n",
    "        \"inputs\": {'x': (\"node a\", \"z\"), 'y': 5.4}\n",
    "    },\n",
    "    \"node c\": {\n",
    "        \"process\": \"process.c_divide\",\n",
    "        \"inputs\": {'a': (\"node a\", \"z\"), 'b': (\"node b\", \"z\")}\n",
    "    },\n",
    "}"
   ]
  },
  {
   "cell_type": "code",
   "execution_count": 81,
   "id": "5018f049",
   "metadata": {},
   "outputs": [],
   "source": [
    "class Graph:\n",
    "    \n",
    "    def __init__(self, specification: dict, processes: list):\n",
    "        \n",
    "        # Check speification and processes.\n",
    "        errors = []\n",
    "        self.specification = {}\n",
    "        self.processes = {}\n",
    "        for node, spec in specification.items():\n",
    "            \n",
    "            # Process.\n",
    "            if \"process\" not in spec:\n",
    "                errors.append(f\"Node {node}: No process is specified.\")\n",
    "                continue\n",
    "            process_name = spec[\"process\"]\n",
    "            node_process = [process for process in processes if process.name == process_name]\n",
    "            if not node_process:\n",
    "                errors.append(f\"Node {node}: There is no process named {process_name}.\")\n",
    "                continue\n",
    "            self.processes[node] = node_process[0]\n",
    "           \n",
    "            # Inputs.\n",
    "            if \"inputs\" not in spec:\n",
    "                errors.append(f\"Node {node}: No inputs are specified.\")\n",
    "                continue\n",
    "            process_variables = set(self.processes[node].inputs.keys())\n",
    "            spec_variables = set(spec[\"inputs\"].keys())\n",
    "            if process_variables != spec_variables:\n",
    "                errors.append(f\"Node {node}: The specified inputs do not match the process inputs.\")\n",
    "                continue\n",
    "            self.specification[node] = spec\n",
    "                \n",
    "        if errors:\n",
    "            raise KeyError(\"\\n\".join(errors))\n",
    "            \n",
    "        # Topology (edges).\n",
    "        self.topology = {}\n",
    "        for node, specification in self.specification.items():\n",
    "            self.topology[node] = [\n",
    "                value[0]\n",
    "                for name, value in specification[\"inputs\"].items()\n",
    "                if isinstance(value, tuple) and len(value) == 2\n",
    "            ]\n",
    "            \n",
    "        # Topological order.\n",
    "        self.node_order = kahns_algorithm(self.topology, incoming=True)\n",
    "        if not self.node_order:\n",
    "            raise Exception(\"The graph is cyclic!\")\n",
    "            \n",
    "    def is_input(self, node: str, variable: str) -> bool:\n",
    "        return node in self.processes and variable in self.processes[node].inputs\n",
    "    \n",
    "    def input_value(self, node: str, variable: str):\n",
    "        if self.is_input(node, variable):\n",
    "            return self.specification[node][\"inputs\"][variable]\n",
    "        return None\n",
    "    \n",
    "    def input_is_egde(self, node: str, variable: str) -> bool:\n",
    "        return isinstance(self.input_value(node, variable), tuple)\n",
    "\n",
    "    def is_output(self, node: str, variable: str) -> bool:\n",
    "        return node in self.processes and variable in self.processes[node].outputs\n",
    "    \n",
    "    def output_value(self, node: str, variable: str):\n",
    "        if self.is_output(node, variable):\n",
    "            return self.processes[node].outputs[variable]\n",
    "        return None\n",
    "           \n",
    "    def run(self):\n",
    "        \n",
    "        inputs = {}\n",
    "        outputs = {}\n",
    "        for node in self.topology:\n",
    "            # Substitute tuple inputs with outputs from prior nodes.\n",
    "            inputs[node] = self.specification[node][\"inputs\"].copy()\n",
    "            for input_name, value in inputs[node].items():\n",
    "                if not isinstance(value, tuple):\n",
    "                    continue\n",
    "                try:\n",
    "                    incoming_node = value[0]\n",
    "                    incoming_variable = value[1]\n",
    "                    incoming_value = outputs[incoming_node][incoming_variable]\n",
    "                    inputs[node][input_name] = incoming_value\n",
    "                except KeyError:\n",
    "                    raise KeyError(f\"Invalid inputs for\")\n",
    "        \n",
    "            # Execute, storing the outputs.\n",
    "            outputs[node] = self.processes[node].run(inputs[node])\n",
    "            \n",
    "        return inputs, outputs\n",
    "\n",
    "graph = Graph(graph_specification, list(processes.values()))"
   ]
  },
  {
   "cell_type": "code",
   "execution_count": 82,
   "id": "1387492d",
   "metadata": {},
   "outputs": [
    {
     "name": "stderr",
     "output_type": "stream",
     "text": [
      "Error response from daemon: No such container: add_subtract\n"
     ]
    },
    {
     "ename": "KeyError",
     "evalue": "'Invalid inputs for'",
     "output_type": "error",
     "traceback": [
      "\u001b[0;31m---------------------------------------------------------------------------\u001b[0m",
      "\u001b[0;31mKeyError\u001b[0m                                  Traceback (most recent call last)",
      "\u001b[0;32m/var/folders/bl/qlsqj1vs2x37_vwrrsy9hb3c0000gn/T/ipykernel_674/511160574.py\u001b[0m in \u001b[0;36mrun\u001b[0;34m(self)\u001b[0m\n\u001b[1;32m     81\u001b[0m                     \u001b[0mincoming_variable\u001b[0m \u001b[0;34m=\u001b[0m \u001b[0mvalue\u001b[0m\u001b[0;34m[\u001b[0m\u001b[0;36m1\u001b[0m\u001b[0;34m]\u001b[0m\u001b[0;34m\u001b[0m\u001b[0;34m\u001b[0m\u001b[0m\n\u001b[0;32m---> 82\u001b[0;31m                     \u001b[0mincoming_value\u001b[0m \u001b[0;34m=\u001b[0m \u001b[0moutputs\u001b[0m\u001b[0;34m[\u001b[0m\u001b[0mincoming_node\u001b[0m\u001b[0;34m]\u001b[0m\u001b[0;34m[\u001b[0m\u001b[0mincoming_variable\u001b[0m\u001b[0;34m]\u001b[0m\u001b[0;34m\u001b[0m\u001b[0;34m\u001b[0m\u001b[0m\n\u001b[0m\u001b[1;32m     83\u001b[0m                     \u001b[0minputs\u001b[0m\u001b[0;34m[\u001b[0m\u001b[0mnode\u001b[0m\u001b[0;34m]\u001b[0m\u001b[0;34m[\u001b[0m\u001b[0minput_name\u001b[0m\u001b[0;34m]\u001b[0m \u001b[0;34m=\u001b[0m \u001b[0mincoming_value\u001b[0m\u001b[0;34m\u001b[0m\u001b[0;34m\u001b[0m\u001b[0m\n",
      "\u001b[0;31mKeyError\u001b[0m: 'z'",
      "\nDuring handling of the above exception, another exception occurred:\n",
      "\u001b[0;31mKeyError\u001b[0m                                  Traceback (most recent call last)",
      "\u001b[0;32m/var/folders/bl/qlsqj1vs2x37_vwrrsy9hb3c0000gn/T/ipykernel_674/2321035744.py\u001b[0m in \u001b[0;36m<module>\u001b[0;34m\u001b[0m\n\u001b[0;32m----> 1\u001b[0;31m \u001b[0minputs\u001b[0m\u001b[0;34m,\u001b[0m \u001b[0moutputs\u001b[0m \u001b[0;34m=\u001b[0m \u001b[0mgraph\u001b[0m\u001b[0;34m.\u001b[0m\u001b[0mrun\u001b[0m\u001b[0;34m(\u001b[0m\u001b[0;34m)\u001b[0m\u001b[0;34m\u001b[0m\u001b[0;34m\u001b[0m\u001b[0m\n\u001b[0m\u001b[1;32m      2\u001b[0m \u001b[0mprint\u001b[0m\u001b[0;34m(\u001b[0m\u001b[0minputs\u001b[0m\u001b[0;34m)\u001b[0m\u001b[0;34m\u001b[0m\u001b[0;34m\u001b[0m\u001b[0m\n\u001b[1;32m      3\u001b[0m \u001b[0mprint\u001b[0m\u001b[0;34m(\u001b[0m\u001b[0;34m\"=\"\u001b[0m\u001b[0;34m*\u001b[0m\u001b[0;36m20\u001b[0m\u001b[0;34m)\u001b[0m\u001b[0;34m\u001b[0m\u001b[0;34m\u001b[0m\u001b[0m\n\u001b[1;32m      4\u001b[0m \u001b[0mprint\u001b[0m\u001b[0;34m(\u001b[0m\u001b[0moutputs\u001b[0m\u001b[0;34m)\u001b[0m\u001b[0;34m\u001b[0m\u001b[0;34m\u001b[0m\u001b[0m\n",
      "\u001b[0;32m/var/folders/bl/qlsqj1vs2x37_vwrrsy9hb3c0000gn/T/ipykernel_674/511160574.py\u001b[0m in \u001b[0;36mrun\u001b[0;34m(self)\u001b[0m\n\u001b[1;32m     83\u001b[0m                     \u001b[0minputs\u001b[0m\u001b[0;34m[\u001b[0m\u001b[0mnode\u001b[0m\u001b[0;34m]\u001b[0m\u001b[0;34m[\u001b[0m\u001b[0minput_name\u001b[0m\u001b[0;34m]\u001b[0m \u001b[0;34m=\u001b[0m \u001b[0mincoming_value\u001b[0m\u001b[0;34m\u001b[0m\u001b[0;34m\u001b[0m\u001b[0m\n\u001b[1;32m     84\u001b[0m                 \u001b[0;32mexcept\u001b[0m \u001b[0mKeyError\u001b[0m\u001b[0;34m:\u001b[0m\u001b[0;34m\u001b[0m\u001b[0;34m\u001b[0m\u001b[0m\n\u001b[0;32m---> 85\u001b[0;31m                     \u001b[0;32mraise\u001b[0m \u001b[0mKeyError\u001b[0m\u001b[0;34m(\u001b[0m\u001b[0;34mf\"Invalid inputs for\"\u001b[0m\u001b[0;34m)\u001b[0m\u001b[0;34m\u001b[0m\u001b[0;34m\u001b[0m\u001b[0m\n\u001b[0m\u001b[1;32m     86\u001b[0m \u001b[0;34m\u001b[0m\u001b[0m\n\u001b[1;32m     87\u001b[0m             \u001b[0;31m# Execute, storing the outputs.\u001b[0m\u001b[0;34m\u001b[0m\u001b[0;34m\u001b[0m\u001b[0;34m\u001b[0m\u001b[0m\n",
      "\u001b[0;31mKeyError\u001b[0m: 'Invalid inputs for'"
     ]
    }
   ],
   "source": [
    "inputs, outputs = graph.run()\n",
    "print(inputs)\n",
    "print(\"=\"*20)\n",
    "print(outputs)"
   ]
  },
  {
   "cell_type": "code",
   "execution_count": 68,
   "id": "d0960596",
   "metadata": {},
   "outputs": [],
   "source": [
    "class NevergradOptimizer:\n",
    "    \n",
    "    def __init__(self, graph: Graph, free_inputs: list, optimize_on: tuple):\n",
    "        \n",
    "        self.graph = graph\n",
    "        self.free_inputs = free_inputs\n",
    "        self.instrumentation = ng.p.Instrumentation(*[inp[2] for inp in free_inputs])\n",
    "        \n",
    "        self.optimize_on = optimize_on\n",
    "        errors = []\n",
    "        \n",
    "        # Check free inputs.\n",
    "        for node, variable, parameterisation in free_inputs:\n",
    "            value = self.graph.input_value(node, variable)\n",
    "            if value is None:\n",
    "                errors.append(f\"Input {node}, {variable}: Does not exist.\")\n",
    "                continue\n",
    "            if isinstance(value, tuple):\n",
    "                errors.append(f\"Input {node}, {variable}: Is an edge.\")\n",
    "                continue\n",
    "            if isinstance(value, list) and isinstance(parameterisation, ng.p.Scalar):\n",
    "                errors.append(f\"Input {node}, {variable}: Is a list and must have a non-scalar parameterisation.\")\n",
    "                continue\n",
    "                \n",
    "            # ????\n",
    "           \n",
    "        # Check output to be optimised.\n",
    "        node, variable = optimize_on\n",
    "        value = self.graph.output_value(node, variable)\n",
    "        if value is None:\n",
    "            errors.append(f\"Output {node}, {variable}: Does not exist.\")\n",
    "        elif not isinstance(value, (int, float)):\n",
    "            errors.append(f\"Output {node}, {variable}: Must a real number to optimise.\")\n",
    "            \n",
    "        if errors:\n",
    "            raise KeyError(\"\\n\".join(errors))\n",
    "            \n",
    "    def optimize(self, optimizer_class, minimize=True, **optimizer_kwargs):\n",
    "        \n",
    "        def run(*vargs):\n",
    "            # Set graph inputs.\n",
    "            for i, (node, variable, _) in enumerate(self.free_inputs):\n",
    "                self.graph.specification[node][\"inputs\"][variable] = vargs[i]  # Have set input func for graph.\n",
    "            # Run graph.\n",
    "            return self.graph.run()\n",
    "            \n",
    "        def objective(*vargs):\n",
    "            _, outputs = run(*vargs)\n",
    "            # Return optimized output.\n",
    "            node, variable = self.optimize_on\n",
    "            value = outputs[node][variable]\n",
    "            if not minimize:\n",
    "                value *= -1\n",
    "            return value\n",
    "        \n",
    "        optimizer = optimizer_class(parametrization=self.instrumentation, **optimizer_kwargs)\n",
    "        solution = optimizer.minimize(objective).value[0]\n",
    "        \n",
    "        return run(*solution)\n",
    "        \n",
    "\n",
    "    \n",
    "\n",
    "nop = NevergradOptimizer(\n",
    "    graph = graph,\n",
    "    free_inputs = [\n",
    "        (\"node a\", \"x\", ng.p.Scalar(init=2.1, lower=-5, upper=5)), \n",
    "        (\"node b\", \"y\", ng.p.Scalar(init=1.7, lower=-5, upper=5))\n",
    "    ],\n",
    "    optimize_on = (\"node c\", \"z\")\n",
    ")"
   ]
  },
  {
   "cell_type": "code",
   "execution_count": 75,
   "id": "f0ccd569",
   "metadata": {},
   "outputs": [
    {
     "data": {
      "text/plain": [
       "({'node a': {'x': 1.3157249099242199, 'y': 16.5},\n",
       "  'node b': {'x': 17.81572490992422, 'y': 4.993177598769161},\n",
       "  'node c': {'a': 17.81572490992422, 'b': 22.808902508693382}},\n",
       " {'node a': {'z': 17.81572490992422},\n",
       "  'node b': {'z': 22.808902508693382},\n",
       "  'node c': {'z': 0.7810864448547363}})"
      ]
     },
     "execution_count": 75,
     "metadata": {},
     "output_type": "execute_result"
    }
   ],
   "source": [
    "nop.optimize(ng.optimization.optimizerlib.CMA, minimize=True, budget=100)"
   ]
  },
  {
   "cell_type": "code",
   "execution_count": null,
   "id": "c0cd866c",
   "metadata": {},
   "outputs": [],
   "source": []
  },
  {
   "cell_type": "code",
   "execution_count": null,
   "id": "47286f95",
   "metadata": {},
   "outputs": [],
   "source": [
    "graph_specification = {\n",
    "    \"node a\": {\n",
    "        \"process\": \"process.python_add\",\n",
    "        \"inputs\": {'x': 2.1, 'y': 16.5}\n",
    "    },\n",
    "    \"node b\": {\n",
    "        \"process\": \"process.python_add\",\n",
    "        \"inputs\": {'x': (\"node a\", \"z\"), 'y': 5.4}\n",
    "    },\n",
    "    \"node c\": {\n",
    "        \"process\": \"process.c_divide\",\n",
    "        \"inputs\": {'a': (\"node a\", \"z\"), 'b': (\"node b\", \"z\")}\n",
    "    },\n",
    "}"
   ]
  },
  {
   "cell_type": "code",
   "execution_count": null,
   "id": "b4712e5c",
   "metadata": {},
   "outputs": [],
   "source": []
  },
  {
   "cell_type": "code",
   "execution_count": null,
   "id": "351e7206",
   "metadata": {},
   "outputs": [],
   "source": []
  },
  {
   "cell_type": "markdown",
   "id": "fecb45c5",
   "metadata": {},
   "source": [
    "### Stop containers"
   ]
  },
  {
   "cell_type": "code",
   "execution_count": 76,
   "id": "cef2d5f9",
   "metadata": {},
   "outputs": [
    {
     "name": "stdout",
     "output_type": "stream",
     "text": [
      "multiple_divide\n",
      "add_subtract\n"
     ]
    }
   ],
   "source": [
    "for container in containers:\n",
    "    container.stop()"
   ]
  },
  {
   "cell_type": "code",
   "execution_count": null,
   "id": "441b9bd3",
   "metadata": {
    "collapsed": true
   },
   "outputs": [],
   "source": [
    "# echo '{\"x\": 11.98769, \"y\": 186.78}' | docker exec -i some-node-a python run.py\n"
   ]
  },
  {
   "cell_type": "markdown",
   "id": "3106d3fc",
   "metadata": {},
   "source": [
    "## Close client"
   ]
  },
  {
   "cell_type": "code",
   "execution_count": 42,
   "id": "ab228ec8",
   "metadata": {},
   "outputs": [],
   "source": [
    "client.close()"
   ]
  },
  {
   "cell_type": "code",
   "execution_count": null,
   "id": "5ffb66f1",
   "metadata": {
    "collapsed": true
   },
   "outputs": [],
   "source": []
  },
  {
   "cell_type": "code",
   "execution_count": null,
   "id": "61dd109f",
   "metadata": {
    "collapsed": true
   },
   "outputs": [],
   "source": []
  }
 ],
 "metadata": {
  "kernelspec": {
   "display_name": "Python 3 (ipykernel)",
   "language": "python",
   "name": "python3"
  },
  "language_info": {
   "codemirror_mode": {
    "name": "ipython",
    "version": 3
   },
   "file_extension": ".py",
   "mimetype": "text/x-python",
   "name": "python",
   "nbconvert_exporter": "python",
   "pygments_lexer": "ipython3",
   "version": "3.7.1"
  }
 },
 "nbformat": 4,
 "nbformat_minor": 5
}
