{
 "cells": [
  {
   "cell_type": "markdown",
   "id": "2f3c502a",
   "metadata": {},
   "source": [
    "# Container DAG\n",
    "\n",
    "\n",
    "https://docker-py.readthedocs.io/en/stable/index.html\n",
    "\n",
    "https://docs.docker.com/reference/cli/docker/"
   ]
  },
  {
   "cell_type": "code",
   "execution_count": 71,
   "id": "f8b0d547",
   "metadata": {},
   "outputs": [],
   "source": [
    "from abc import ABCMeta, abstractmethod\n",
    "import json\n",
    "import random\n",
    "import subprocess\n",
    "import sys\n",
    "from dataclasses import dataclass\n",
    "\n",
    "from docker import from_env\n",
    "\n",
    "import nevergrad as ng\n",
    "import scipy.optimize as sco\n",
    "import numpy as np"
   ]
  },
  {
   "cell_type": "code",
   "execution_count": 2,
   "id": "c0e40615",
   "metadata": {},
   "outputs": [],
   "source": [
    "sys.path.append(\"../../src\")\n",
    "\n",
    "from dockweed.topological_sort import kahns_algorithm\n",
    "from dockweed.process import *\n",
    "from dockweed.container import *\n",
    "from dockweed.graph import Graph"
   ]
  },
  {
   "cell_type": "markdown",
   "id": "b45ddb01",
   "metadata": {},
   "source": [
    "## Open Docker client"
   ]
  },
  {
   "cell_type": "code",
   "execution_count": 3,
   "id": "d718cf24",
   "metadata": {},
   "outputs": [],
   "source": [
    "client = from_env()"
   ]
  },
  {
   "cell_type": "markdown",
   "id": "0d705700",
   "metadata": {},
   "source": [
    "### Get container processes"
   ]
  },
  {
   "cell_type": "code",
   "execution_count": 4,
   "id": "6efeffd1",
   "metadata": {},
   "outputs": [
    {
     "name": "stdout",
     "output_type": "stream",
     "text": [
      "['multiple_divide', 'add_subtract']\n",
      "['process.c_divide', 'process.c_multiply', 'process.python_add', 'process.python_subtract']\n"
     ]
    }
   ],
   "source": [
    "containers = []\n",
    "processes = {}\n",
    "# Loop through images. \n",
    "# Exclude intermediate layer images (all=False) and dangling images.\n",
    "for image in client.images.list(all=False, filters={\"dangling\":False}):\n",
    "    \n",
    "    # Image tag\n",
    "    tags = image.tags\n",
    "    if not tags:\n",
    "        continue\n",
    "    image_tag = tags[0]\n",
    "    \n",
    "    # Labels with node names and commands.\n",
    "    labels = image.attrs['ContainerConfig']['Labels']\n",
    "    if labels is None:\n",
    "        continue\n",
    "    process_cmd = {name: cmd for name, cmd in labels.items() if name.startswith(\"process.\")}\n",
    "    if not process_cmd:\n",
    "        continue\n",
    "        \n",
    "    # Processes\n",
    "    for name, cmd in process_cmd.items():\n",
    "        # Container should have no entry point, or this will call the entrypoint rather than label command.\n",
    "        result = client.containers.run(image=image_tag, command=cmd, remove=True, stdout=True)\n",
    "        try:\n",
    "            dic = json.loads(result)\n",
    "            if \"description\" in dic and \"outputs\" in dic and \"inputs\" in dic:\n",
    "                \n",
    "                if not containers or containers[-1].image != image_tag:\n",
    "                    container = NodeContainer(image_tag=tags[0])\n",
    "                    containers.append(container) \n",
    "                \n",
    "                processes[name] = ContainerProcess(\n",
    "                    name = name,\n",
    "                    description = dic[\"description\"],\n",
    "                    container = containers[-1].name,\n",
    "                    command = cmd,\n",
    "                    inputs = dic[\"inputs\"],\n",
    "                    outputs = dic[\"outputs\"]\n",
    "                )    \n",
    "        except json.decoder.JSONDecodeError:\n",
    "            continue\n",
    "    \n",
    "print([container.name for container in containers])\n",
    "print([process.name for process in processes.values()])"
   ]
  },
  {
   "cell_type": "markdown",
   "id": "58a5240c",
   "metadata": {},
   "source": [
    "### Start containers"
   ]
  },
  {
   "cell_type": "code",
   "execution_count": 5,
   "id": "2c531c4c",
   "metadata": {},
   "outputs": [
    {
     "name": "stdout",
     "output_type": "stream",
     "text": [
      "84afe6f2666f9b4d764cd71af72011673f920d5d2b372346a0a668eba800f46f\n",
      "0a833644f95f5066e0a4024965dc5968c8fb8d28dd3a1e33a96f8a8ba4d30568\n"
     ]
    }
   ],
   "source": [
    "for container in containers:\n",
    "    container.start()"
   ]
  },
  {
   "cell_type": "markdown",
   "id": "b580955b",
   "metadata": {},
   "source": [
    "### Add generator processes"
   ]
  },
  {
   "cell_type": "code",
   "execution_count": 6,
   "id": "0a22a1ea",
   "metadata": {},
   "outputs": [],
   "source": [
    "processes[\"random float\"] = UniformFloatProcess()\n",
    "processes[\"random choice\"] = RandomChoice()"
   ]
  },
  {
   "cell_type": "markdown",
   "id": "d83fa908",
   "metadata": {},
   "source": [
    "### Information about processes"
   ]
  },
  {
   "cell_type": "code",
   "execution_count": 7,
   "id": "568744e4",
   "metadata": {},
   "outputs": [
    {
     "name": "stdout",
     "output_type": "stream",
     "text": [
      "------------------------------\n",
      "#0 process.c_divide\n",
      "\tDivision. z = a / b\n",
      "\tinputs = {'a': 1.0, 'b': 1.0}\n",
      "\toutputs = {'z': 1.0}\n",
      "------------------------------\n",
      "#1 process.c_multiply\n",
      "\tMultiplication. z = a * b\n",
      "\tinputs = {'a': 1.0, 'b': 1.0}\n",
      "\toutputs = {'z': 1.0}\n",
      "------------------------------\n",
      "#2 process.python_add\n",
      "\tAddition. z = x + y.\n",
      "\tinputs = {'x': 1.0, 'y': 1.0}\n",
      "\toutputs = {'z': 1.0}\n",
      "------------------------------\n",
      "#3 process.python_subtract\n",
      "\tAddition. z = x + y.\n",
      "\tinputs = {'x': 1.0, 'y': 1.0}\n",
      "\toutputs = {'z': 1.0}\n",
      "------------------------------\n",
      "#4 random float\n",
      "\tA uniformly distributed random float.\n",
      "\tinputs = {'min': 0.0, 'max': 1.0}\n",
      "\toutputs = {'n': 0.5}\n",
      "------------------------------\n",
      "#5 random choice\n",
      "\tA rnadom choice.\n",
      "\tinputs = {'choices': [1, 2, 3, 4]}\n",
      "\toutputs = {'choice': 1}\n"
     ]
    }
   ],
   "source": [
    "for i, process in enumerate(processes.values()):\n",
    "    print(\"-\"*30)\n",
    "    print(f\"#{i} {process.name}\")\n",
    "    print(f\"\\t{process.description}\")\n",
    "    print(f\"\\tinputs = {process.inputs}\")\n",
    "    print(f\"\\toutputs = {process.outputs}\")"
   ]
  },
  {
   "cell_type": "markdown",
   "id": "61964257",
   "metadata": {},
   "source": [
    "### Run individual processes"
   ]
  },
  {
   "cell_type": "code",
   "execution_count": 8,
   "id": "e9208d84",
   "metadata": {},
   "outputs": [
    {
     "data": {
      "text/plain": [
       "{'z': 13.12}"
      ]
     },
     "execution_count": 8,
     "metadata": {},
     "output_type": "execute_result"
    }
   ],
   "source": [
    "processes[\"process.python_add\"].run({'x': 2.34, 'y': 10.78})"
   ]
  },
  {
   "cell_type": "code",
   "execution_count": 9,
   "id": "e60676ab",
   "metadata": {},
   "outputs": [
    {
     "data": {
      "text/plain": [
       "{'z': 899.8699951171875}"
      ]
     },
     "execution_count": 9,
     "metadata": {},
     "output_type": "execute_result"
    }
   ],
   "source": [
    "processes[\"process.c_multiply\"].run({'a': 89.987, 'b': 10.0})"
   ]
  },
  {
   "cell_type": "code",
   "execution_count": 10,
   "id": "fa3b9d56",
   "metadata": {},
   "outputs": [
    {
     "name": "stdout",
     "output_type": "stream",
     "text": [
      "{'choice': 4}\n",
      "{'choice': 8}\n",
      "{'choice': 3}\n",
      "{'choice': 3}\n",
      "{'choice': 4}\n",
      "{'choice': 3}\n",
      "{'choice': 4}\n",
      "{'choice': 8}\n",
      "{'choice': 8}\n",
      "{'choice': 3}\n"
     ]
    }
   ],
   "source": [
    "for _ in range(10):\n",
    "    x = processes[\"random choice\"].run({'choices': [3, 4, 8]})\n",
    "    print(x)"
   ]
  },
  {
   "cell_type": "markdown",
   "id": "bb9a6d8c",
   "metadata": {},
   "source": [
    "### Run a graph of processes"
   ]
  },
  {
   "cell_type": "markdown",
   "id": "0fede546",
   "metadata": {},
   "source": [
    "#### Specify the graph"
   ]
  },
  {
   "cell_type": "code",
   "execution_count": 85,
   "id": "6fc3bcfc",
   "metadata": {},
   "outputs": [],
   "source": [
    "graph_specification = {\n",
    "    \"node alpha\": {\n",
    "        \"process\": \"random choice\",\n",
    "        \"inputs\": {'choices': [1.2, 5.4, 6.7]}\n",
    "    },\n",
    "    \"node beta\": {\n",
    "        \"process\": \"random float\",\n",
    "        \"inputs\": {\"min\": -5.0, \"max\": 5.0}\n",
    "    },\n",
    "    \"node a\": {\n",
    "        \"process\": \"process.python_add\",\n",
    "        \"inputs\": {'x': (\"node alpha\", \"choice\"), 'y': 16.5}\n",
    "    },\n",
    "    \"node b\": {\n",
    "        \"process\": \"process.python_add\",\n",
    "        \"inputs\": {'x': (\"node a\", \"z\"), 'y': (\"node beta\", \"n\")}\n",
    "    },\n",
    "    \"node c\": {\n",
    "        \"process\": \"process.c_divide\",\n",
    "        \"inputs\": {'a': (\"node a\", \"z\"), 'b': (\"node b\", \"z\")}\n",
    "    },\n",
    "}"
   ]
  },
  {
   "cell_type": "code",
   "execution_count": 80,
   "id": "135cc1b7",
   "metadata": {},
   "outputs": [],
   "source": [
    "graph_specification = {\n",
    "    \"node a\": {\n",
    "        \"process\": \"process.python_add\",\n",
    "        \"inputs\": {'x': 2.1, 'y': 16.5}\n",
    "    },\n",
    "    \"node b\": {\n",
    "        \"process\": \"process.python_add\",\n",
    "        \"inputs\": {'x': (\"node a\", \"z\"), 'y': 5.4}\n",
    "    },\n",
    "    \"node c\": {\n",
    "        \"process\": \"process.c_divide\",\n",
    "        \"inputs\": {'a': (\"node a\", \"z\"), 'b': (\"node b\", \"z\")}\n",
    "    },\n",
    "}"
   ]
  },
  {
   "cell_type": "code",
   "execution_count": 11,
   "id": "a02ff828",
   "metadata": {},
   "outputs": [],
   "source": [
    "# Parabolics well. y = (x - x0)^2 + y0\n",
    "graph_specification = {\n",
    "    \"xp\": {\n",
    "        \"process\": \"process.python_subtract\",\n",
    "        \"inputs\": {'x': 1.0, 'y': 4.0}\n",
    "    },\n",
    "    \"square\": {\n",
    "        \"process\": \"process.c_multiply\",\n",
    "        \"inputs\": {'a': (\"xp\", \"z\"), 'b': (\"xp\", \"z\")}\n",
    "    },\n",
    "     \"yp\": {\n",
    "        \"process\": \"process.python_add\",\n",
    "        \"inputs\": {'x': (\"square\", \"z\"), 'y': 1.0}\n",
    "    },\n",
    "}"
   ]
  },
  {
   "cell_type": "code",
   "execution_count": 12,
   "id": "5018f049",
   "metadata": {},
   "outputs": [],
   "source": [
    "graph = Graph(graph_specification, list(processes.values()))"
   ]
  },
  {
   "cell_type": "code",
   "execution_count": 13,
   "id": "1387492d",
   "metadata": {},
   "outputs": [
    {
     "name": "stdout",
     "output_type": "stream",
     "text": [
      "{'xp': {'x': 1.0, 'y': 4.0}, 'square': {'a': -3.0, 'b': -3.0}, 'yp': {'x': 9.0, 'y': 1.0}}\n",
      "====================\n",
      "{'xp': {'z': -3.0}, 'square': {'z': 9.0}, 'yp': {'z': 10.0}}\n"
     ]
    }
   ],
   "source": [
    "inputs, outputs = graph.run()\n",
    "print(inputs)\n",
    "print(\"=\"*20)\n",
    "print(outputs)"
   ]
  },
  {
   "cell_type": "code",
   "execution_count": 14,
   "id": "5a6fbaf5",
   "metadata": {},
   "outputs": [
    {
     "name": "stdout",
     "output_type": "stream",
     "text": [
      "1.0\n"
     ]
    }
   ],
   "source": [
    "print(graph.input_value(\"xp\", \"x\"))"
   ]
  },
  {
   "cell_type": "code",
   "execution_count": 53,
   "id": "70b6e7b3",
   "metadata": {},
   "outputs": [],
   "source": []
  },
  {
   "cell_type": "code",
   "execution_count": 83,
   "id": "d0960596",
   "metadata": {},
   "outputs": [],
   "source": [
    "@dataclass\n",
    "class FreeInput:\n",
    "    node: str\n",
    "    variable: str\n",
    "        \n",
    "@dataclass\n",
    "class ScalarInput(FreeInput):\n",
    "    min_value: float\n",
    "    max_value: float\n",
    "    init_value: float\n",
    "        \n",
    "@dataclass\n",
    "class ListInput(FreeInput):\n",
    "    values: list\n",
    "    init_index: int\n",
    "    \n",
    "    \n",
    "class GraphOptimizer:\n",
    "    \n",
    "    def __init__(self, graph: Graph, free_inputs: list, optimize_on: tuple, minimize=True):\n",
    "        \n",
    "        self.graph = graph\n",
    "        self.free_inputs = free_inputs\n",
    "        self.optimize_on = optimize_on\n",
    "        self.minimize = minimize\n",
    "        errors = []\n",
    "        \n",
    "        # Check free inputs.\n",
    "        for finput in free_inputs:\n",
    "            value = self.graph.input_value(finput.node, finput.variable)\n",
    "            if value is None:\n",
    "                errors.append(f\"Input {finput.node}, {finput.variable}: Does not exist.\")\n",
    "                continue\n",
    "            if isinstance(value, tuple):\n",
    "                errors.append(f\"Input {finput.node}, {finput.variable}: Is an edge.\")\n",
    "                continue\n",
    "            if isinstance(value, list) and isinstance(finput, ScalarInput):\n",
    "                errors.append(f\"Input {finput.node}, {finput.variable}: Is a list and must have a non-scalar parameterisation.\")\n",
    "                continue\n",
    "                \n",
    "            # ????\n",
    "           \n",
    "        # Check output to be optimised.\n",
    "        node, variable = optimize_on\n",
    "        value = self.graph.output_value(node, variable)\n",
    "        if value is None:\n",
    "            errors.append(f\"Output {node}, {variable}: Does not exist.\")\n",
    "        elif not isinstance(value, (int, float)):\n",
    "            errors.append(f\"Output {node}, {variable}: Must a real number to optimise.\")\n",
    "            \n",
    "        if errors:\n",
    "            raise KeyError(\"\\n\".join(errors))\n",
    "            \n",
    "    \n",
    "    def run(self, *vargs):\n",
    "        # Set graph inputs.\n",
    "        for i, finput in enumerate(self.free_inputs):\n",
    "            self.graph.specification[finput.node][\"inputs\"][finput.variable] = vargs[i]  # Have set input func for graph.\n",
    "        # Run graph.\n",
    "        return self.graph.run()         \n",
    "        \n",
    "    def objective(self, *vargs):\n",
    "        \n",
    "        _, outputs = self.run(*vargs)\n",
    "        # Return optimized output.\n",
    "        node, variable = self.optimize_on\n",
    "        value = outputs[node][variable]\n",
    "        if not self.minimize:\n",
    "            value *= -1\n",
    "        return value   \n",
    "    \n",
    "    def objective_array(self, x):\n",
    "        return self.objective(*x.tolist())\n",
    "        \n",
    "    def optimize_nevergrad(self, optimizer_class, **optimizer_kwargs):\n",
    "        \n",
    "        params = []\n",
    "        for finput in self.free_inputs:\n",
    "            if isinstance(finput, ScalarInput):\n",
    "                params.append(ng.p.Scalar(\n",
    "                    init=finput.init_value, \n",
    "                    lower=finput.min_value, \n",
    "                    upper=finput.max_value\n",
    "                ))\n",
    "            elif isinstance(finput, ListInput):\n",
    "                params.append(ng.p.Choice(\n",
    "                    choices=finput.values,\n",
    "                ))\n",
    "            else:\n",
    "                raise ValueError(\"Must be a scalar or list input.\")\n",
    "\n",
    "        optimizer = optimizer_class(\n",
    "            parametrization=ng.p.Instrumentation(*params), \n",
    "            **optimizer_kwargs\n",
    "        )\n",
    "        solution = optimizer.minimize(self.objective).value[0]\n",
    "        return self.run(*solution)\n",
    "    \n",
    "    def optimize_scipy(self, method: str, **optimizer_kwargs):\n",
    "        \n",
    "        x0 = []\n",
    "        bounds = []\n",
    "        for finput in self.free_inputs:\n",
    "            if isinstance(finput, ScalarInput):\n",
    "                x0.append(finput.init_value)\n",
    "                bounds.append((finput.min_value, finput.max_value))\n",
    "            else:\n",
    "                raise ValueError(\"Must be a scalar or list input.\")\n",
    "\n",
    "        solution = sco.minimize(fun=self.objective_array, x0=np.array(x0), method=method, bounds=bounds)\n",
    "        return self.run(*solution.x.tolist())    "
   ]
  },
  {
   "cell_type": "code",
   "execution_count": null,
   "id": "11f95c9a",
   "metadata": {},
   "outputs": [],
   "source": []
  },
  {
   "cell_type": "code",
   "execution_count": null,
   "id": "fba55909",
   "metadata": {},
   "outputs": [],
   "source": []
  },
  {
   "cell_type": "code",
   "execution_count": 84,
   "id": "4b49791e",
   "metadata": {},
   "outputs": [],
   "source": [
    "nop = GraphOptimizer(\n",
    "    graph = graph,\n",
    "    free_inputs = [\n",
    "        ScalarInput(node=\"xp\", variable=\"x\", init_value=2.1, min_value=-5, max_value=5), \n",
    "    ],\n",
    "    optimize_on = (\"yp\", \"z\"),\n",
    "    minimize=True\n",
    ")"
   ]
  },
  {
   "cell_type": "code",
   "execution_count": 85,
   "id": "c0cd866c",
   "metadata": {},
   "outputs": [
    {
     "data": {
      "text/plain": [
       "({'xp': {'x': 3.9999975585937486, 'y': 4.0},\n",
       "  'square': {'a': -2.4414062513855583e-06, 'b': -2.4414062513855583e-06},\n",
       "  'yp': {'x': 5.960464326965065e-12, 'y': 1.0}},\n",
       " {'xp': {'z': -2.4414062513855583e-06},\n",
       "  'square': {'z': 5.960464326965065e-12},\n",
       "  'yp': {'z': 1.0000000000059606}})"
      ]
     },
     "execution_count": 85,
     "metadata": {},
     "output_type": "execute_result"
    }
   ],
   "source": [
    "nop.optimize_scipy(method=\"nelder-mead\")"
   ]
  },
  {
   "cell_type": "code",
   "execution_count": 86,
   "id": "f0ccd569",
   "metadata": {},
   "outputs": [
    {
     "data": {
      "text/plain": [
       "({'xp': {'x': 4.000157661700929, 'y': 4.0},\n",
       "  'square': {'a': 0.00015766170092934573, 'b': 0.00015766170092934573},\n",
       "  'yp': {'x': 2.4857213176687765e-08, 'y': 1.0}},\n",
       " {'xp': {'z': 0.00015766170092934573},\n",
       "  'square': {'z': 2.4857213176687765e-08},\n",
       "  'yp': {'z': 1.0000000248572132}})"
      ]
     },
     "execution_count": 86,
     "metadata": {},
     "output_type": "execute_result"
    }
   ],
   "source": [
    "nop.optimize_nevergrad(ng.optimization.optimizerlib.NGO, budget=100)"
   ]
  },
  {
   "cell_type": "code",
   "execution_count": null,
   "id": "47286f95",
   "metadata": {},
   "outputs": [],
   "source": [
    "graph_specification = {\n",
    "    \"xp\": {\n",
    "        \"process\": \"process.python_subtract\",\n",
    "        \"inputs\": {'x': 1.0, 'y': 4.0}\n",
    "    },\n",
    "    \"square\": {\n",
    "        \"process\": \"process.c_multiply\",\n",
    "        \"inputs\": {'a': (\"xp\", \"z\"), 'b': (\"xp\", \"z\")}\n",
    "    },\n",
    "     \"yp\": {\n",
    "        \"process\": \"process.python_add\",\n",
    "        \"inputs\": {'x': (\"square\", \"z\"), 'y': 1.0}\n",
    "    },\n",
    "}"
   ]
  },
  {
   "cell_type": "code",
   "execution_count": null,
   "id": "b4712e5c",
   "metadata": {},
   "outputs": [],
   "source": []
  },
  {
   "cell_type": "code",
   "execution_count": null,
   "id": "351e7206",
   "metadata": {},
   "outputs": [],
   "source": []
  },
  {
   "cell_type": "markdown",
   "id": "fecb45c5",
   "metadata": {},
   "source": [
    "### Stop containers"
   ]
  },
  {
   "cell_type": "code",
   "execution_count": 87,
   "id": "cef2d5f9",
   "metadata": {},
   "outputs": [
    {
     "name": "stdout",
     "output_type": "stream",
     "text": [
      "multiple_divide\n",
      "add_subtract\n"
     ]
    }
   ],
   "source": [
    "for container in containers:\n",
    "    container.stop()"
   ]
  },
  {
   "cell_type": "code",
   "execution_count": null,
   "id": "441b9bd3",
   "metadata": {
    "collapsed": true
   },
   "outputs": [],
   "source": [
    "# echo '{\"x\": 11.98769, \"y\": 186.78}' | docker exec -i some-node-a python run.py\n"
   ]
  },
  {
   "cell_type": "markdown",
   "id": "3106d3fc",
   "metadata": {},
   "source": [
    "## Close client"
   ]
  },
  {
   "cell_type": "code",
   "execution_count": 88,
   "id": "ab228ec8",
   "metadata": {},
   "outputs": [],
   "source": [
    "client.close()"
   ]
  },
  {
   "cell_type": "code",
   "execution_count": null,
   "id": "5ffb66f1",
   "metadata": {
    "collapsed": true
   },
   "outputs": [],
   "source": []
  },
  {
   "cell_type": "code",
   "execution_count": null,
   "id": "61dd109f",
   "metadata": {
    "collapsed": true
   },
   "outputs": [],
   "source": []
  }
 ],
 "metadata": {
  "kernelspec": {
   "display_name": "Python 3 (ipykernel)",
   "language": "python",
   "name": "python3"
  },
  "language_info": {
   "codemirror_mode": {
    "name": "ipython",
    "version": 3
   },
   "file_extension": ".py",
   "mimetype": "text/x-python",
   "name": "python",
   "nbconvert_exporter": "python",
   "pygments_lexer": "ipython3",
   "version": "3.7.1"
  }
 },
 "nbformat": 4,
 "nbformat_minor": 5
}
