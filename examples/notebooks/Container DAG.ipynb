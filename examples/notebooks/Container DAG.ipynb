{
 "cells": [
  {
   "cell_type": "markdown",
   "id": "2f3c502a",
   "metadata": {},
   "source": [
    "# Container DAG\n",
    "\n",
    "\n",
    "https://docker-py.readthedocs.io/en/stable/index.html\n",
    "\n",
    "https://docs.docker.com/reference/cli/docker/"
   ]
  },
  {
   "cell_type": "code",
   "execution_count": 1,
   "id": "f8b0d547",
   "metadata": {},
   "outputs": [],
   "source": [
    "from abc import ABCMeta, abstractmethod\n",
    "import json\n",
    "import random\n",
    "import subprocess\n",
    "import sys\n",
    "\n",
    "from docker import from_env"
   ]
  },
  {
   "cell_type": "code",
   "execution_count": 3,
   "id": "c0e40615",
   "metadata": {},
   "outputs": [],
   "source": [
    "sys.path.append(\"../../src\")\n",
    "\n",
    "from dockweed.topological_sort import kahns_algorithm\n",
    "from dockweed.process import *\n",
    "from dockweed.container import *"
   ]
  },
  {
   "cell_type": "markdown",
   "id": "b45ddb01",
   "metadata": {},
   "source": [
    "## Open Docker client"
   ]
  },
  {
   "cell_type": "code",
   "execution_count": 4,
   "id": "d718cf24",
   "metadata": {},
   "outputs": [],
   "source": [
    "client = from_env()"
   ]
  },
  {
   "cell_type": "markdown",
   "id": "0d705700",
   "metadata": {},
   "source": [
    "### Get container processes"
   ]
  },
  {
   "cell_type": "code",
   "execution_count": 5,
   "id": "6efeffd1",
   "metadata": {},
   "outputs": [
    {
     "name": "stdout",
     "output_type": "stream",
     "text": [
      "['multiple_divide', 'add_subtract']\n",
      "['process.c_divide', 'process.c_multiply', 'process.python_add', 'process.python_subtract']\n"
     ]
    }
   ],
   "source": [
    "containers = []\n",
    "processes = {}\n",
    "# Loop through images. \n",
    "# Exclude intermediate layer images (all=False) and dangling images.\n",
    "for image in client.images.list(all=False, filters={\"dangling\":False}):\n",
    "    \n",
    "    # Image tag\n",
    "    tags = image.tags\n",
    "    if not tags:\n",
    "        continue\n",
    "    image_tag = tags[0]\n",
    "    \n",
    "    # Labels with node names and commands.\n",
    "    labels = image.attrs['ContainerConfig']['Labels']\n",
    "    if labels is None:\n",
    "        continue\n",
    "    process_cmd = {name: cmd for name, cmd in labels.items() if name.startswith(\"process.\")}\n",
    "    if not process_cmd:\n",
    "        continue\n",
    "        \n",
    "    # Processes\n",
    "    for name, cmd in process_cmd.items():\n",
    "        # Container should have no entry point, or this will call the entrypoint rather than label command.\n",
    "        result = client.containers.run(image=image_tag, command=cmd, remove=True, stdout=True)\n",
    "        try:\n",
    "            dic = json.loads(result)\n",
    "            if \"description\" in dic and \"outputs\" in dic and \"inputs\" in dic:\n",
    "                \n",
    "                if not containers or containers[-1].image != image_tag:\n",
    "                    container = NodeContainer(image_tag=tags[0])\n",
    "                    containers.append(container) \n",
    "                \n",
    "                processes[name] = ContainerProcess(\n",
    "                    name = name,\n",
    "                    description = dic[\"description\"],\n",
    "                    container = containers[-1].name,\n",
    "                    command = cmd,\n",
    "                    inputs = dic[\"inputs\"],\n",
    "                    outputs = dic[\"outputs\"]\n",
    "                )    \n",
    "        except json.decoder.JSONDecodeError:\n",
    "            continue\n",
    "    \n",
    "print([container.name for container in containers])\n",
    "print([process.name for process in processes.values()])"
   ]
  },
  {
   "cell_type": "markdown",
   "id": "58a5240c",
   "metadata": {},
   "source": [
    "### Start containers"
   ]
  },
  {
   "cell_type": "code",
   "execution_count": 6,
   "id": "2c531c4c",
   "metadata": {},
   "outputs": [
    {
     "name": "stdout",
     "output_type": "stream",
     "text": [
      "9d4ec7a8cac5d310aead4f08218f8509d7d417656a96620bde3a716ff74c3d54\n",
      "7ce082fd040b1e45f0f37e61ea6bf55c38efe0d2041b06320f2ccb297d170c38\n"
     ]
    }
   ],
   "source": [
    "for container in containers:\n",
    "    container.start()"
   ]
  },
  {
   "cell_type": "markdown",
   "id": "b580955b",
   "metadata": {},
   "source": [
    "### Add generator processes"
   ]
  },
  {
   "cell_type": "code",
   "execution_count": 7,
   "id": "0a22a1ea",
   "metadata": {},
   "outputs": [],
   "source": [
    "processes[\"random float\"] = UniformFloatProcess()\n",
    "processes[\"random choice\"] = RandomChoice()"
   ]
  },
  {
   "cell_type": "markdown",
   "id": "d83fa908",
   "metadata": {},
   "source": [
    "### Information about processes"
   ]
  },
  {
   "cell_type": "code",
   "execution_count": 8,
   "id": "568744e4",
   "metadata": {},
   "outputs": [
    {
     "name": "stdout",
     "output_type": "stream",
     "text": [
      "------------------------------\n",
      "#0 process.c_divide\n",
      "\tDivision. z = a / b\n",
      "\tinputs = {'a': 1.0, 'b': 1.0}\n",
      "\toutputs = {'z': 1.0}\n",
      "------------------------------\n",
      "#1 process.c_multiply\n",
      "\tMultiplication. z = a * b\n",
      "\tinputs = {'a': 1.0, 'b': 1.0}\n",
      "\toutputs = {'z': 1.0}\n",
      "------------------------------\n",
      "#2 process.python_add\n",
      "\tAddition. z = x + y.\n",
      "\tinputs = {'x': 1.0, 'y': 1.0}\n",
      "\toutputs = {'z': 1.0}\n",
      "------------------------------\n",
      "#3 process.python_subtract\n",
      "\tAddition. z = x + y.\n",
      "\tinputs = {'x': 1.0, 'y': 1.0}\n",
      "\toutputs = {'z': 1.0}\n",
      "------------------------------\n",
      "#4 random float\n",
      "\tA uniformly distributed random float.\n",
      "\tinputs = {'min': 0.0, 'max': 1.0}\n",
      "\toutputs = {'n': 0.5}\n",
      "------------------------------\n",
      "#5 random choice\n",
      "\tA rnadom choice.\n",
      "\tinputs = {'choices': [1, 2, 3, 4]}\n",
      "\toutputs = {'choice': 1}\n"
     ]
    }
   ],
   "source": [
    "for i, process in enumerate(processes.values()):\n",
    "    print(\"-\"*30)\n",
    "    print(f\"#{i} {process.name}\")\n",
    "    print(f\"\\t{process.description}\")\n",
    "    print(f\"\\tinputs = {process.inputs}\")\n",
    "    print(f\"\\toutputs = {process.outputs}\")"
   ]
  },
  {
   "cell_type": "markdown",
   "id": "61964257",
   "metadata": {},
   "source": [
    "### Run individual processes"
   ]
  },
  {
   "cell_type": "code",
   "execution_count": 9,
   "id": "e9208d84",
   "metadata": {},
   "outputs": [
    {
     "data": {
      "text/plain": [
       "{'z': 13.12}"
      ]
     },
     "execution_count": 9,
     "metadata": {},
     "output_type": "execute_result"
    }
   ],
   "source": [
    "processes[\"process.python_add\"].run({'x': 2.34, 'y': 10.78})"
   ]
  },
  {
   "cell_type": "code",
   "execution_count": 10,
   "id": "e60676ab",
   "metadata": {},
   "outputs": [
    {
     "data": {
      "text/plain": [
       "{'x': 899.8699951171875}"
      ]
     },
     "execution_count": 10,
     "metadata": {},
     "output_type": "execute_result"
    }
   ],
   "source": [
    "processes[\"process.c_multiply\"].run({'a': 89.987, 'b': 10.0})"
   ]
  },
  {
   "cell_type": "code",
   "execution_count": 12,
   "id": "fa3b9d56",
   "metadata": {},
   "outputs": [
    {
     "name": "stdout",
     "output_type": "stream",
     "text": [
      "{'choice': 3}\n",
      "{'choice': 4}\n",
      "{'choice': 3}\n",
      "{'choice': 3}\n",
      "{'choice': 8}\n",
      "{'choice': 8}\n",
      "{'choice': 8}\n",
      "{'choice': 3}\n",
      "{'choice': 8}\n",
      "{'choice': 8}\n"
     ]
    }
   ],
   "source": [
    "for _ in range(10):\n",
    "    x = processes[\"random choice\"].run({'choices': [3, 4, 8]})\n",
    "    print(x)"
   ]
  },
  {
   "cell_type": "markdown",
   "id": "bb9a6d8c",
   "metadata": {},
   "source": [
    "### Run a graph of processes"
   ]
  },
  {
   "cell_type": "markdown",
   "id": "0fede546",
   "metadata": {},
   "source": [
    "#### Specify the graph"
   ]
  },
  {
   "cell_type": "code",
   "execution_count": 85,
   "id": "6fc3bcfc",
   "metadata": {},
   "outputs": [],
   "source": [
    "graph_specification = {\n",
    "    \"node alpha\": {\n",
    "        \"process\": \"random choice\",\n",
    "        \"inputs\": {'choices': [1.2, 5.4, 6.7]}\n",
    "    },\n",
    "    \"node beta\": {\n",
    "        \"process\": \"random float\",\n",
    "        \"inputs\": {\"min\": -5.0, \"max\": 5.0}\n",
    "    },\n",
    "    \"node a\": {\n",
    "        \"process\": \"process.python_add\",\n",
    "        \"inputs\": {'x': (\"node alpha\", \"choice\"), 'y': 16.5}\n",
    "    },\n",
    "    \"node b\": {\n",
    "        \"process\": \"process.python_add\",\n",
    "        \"inputs\": {'x': (\"node a\", \"z\"), 'y': (\"node beta\", \"n\")}\n",
    "    },\n",
    "    \"node c\": {\n",
    "        \"process\": \"process.c_divide\",\n",
    "        \"inputs\": {'a': (\"node a\", \"z\"), 'b': (\"node b\", \"z\")}\n",
    "    },\n",
    "}"
   ]
  },
  {
   "cell_type": "code",
   "execution_count": 97,
   "id": "135cc1b7",
   "metadata": {},
   "outputs": [],
   "source": [
    "graph_specification = {\n",
    "    \"node a\": {\n",
    "        \"process\": \"process.python_add\",\n",
    "        \"inputs\": {'x': 2.1, 'y': 16.5}\n",
    "    },\n",
    "    \"node b\": {\n",
    "        \"process\": \"process.python_add\",\n",
    "        \"inputs\": {'x': (\"node a\", \"z\"), 'y': 5.4}\n",
    "    },\n",
    "    \"node c\": {\n",
    "        \"process\": \"process.c_divide\",\n",
    "        \"inputs\": {'a': (\"node a\", \"z\"), 'b': (\"node b\", \"z\")}\n",
    "    },\n",
    "}"
   ]
  },
  {
   "cell_type": "code",
   "execution_count": 102,
   "id": "5018f049",
   "metadata": {},
   "outputs": [],
   "source": [
    "class Graph:\n",
    "    \n",
    "    def __init__(self, specification: dict, processes: list):\n",
    "        \n",
    "        # Check speification and processes.\n",
    "        errors = []\n",
    "        self.specification = {}\n",
    "        self.processes = {}\n",
    "        for node, spec in specification.items():\n",
    "            \n",
    "            # Process.\n",
    "            if \"process\" not in spec:\n",
    "                errors.append(f\"Node {node}: No process is specified.\")\n",
    "                continue\n",
    "            process_name = spec[\"process\"]\n",
    "            node_process = [process for process in processes if process.name == process_name]\n",
    "            if not node_process:\n",
    "                errors.append(f\"Node {node}: There is no process named {process_name}.\")\n",
    "                continue\n",
    "            self.processes[node] = node_process[0]\n",
    "           \n",
    "            # Inputs.\n",
    "            if \"inputs\" not in spec:\n",
    "                errors.append(f\"Node {node}: No inputs are specified.\")\n",
    "                continue\n",
    "            process_variables = set(self.processes[node].inputs.keys())\n",
    "            spec_variables = set(spec[\"inputs\"].keys())\n",
    "            if process_variables != spec_variables:\n",
    "                errors.append(f\"Node {node}: The specified inputs do not match the process inputs.\")\n",
    "                continue\n",
    "            self.specification[node] = spec\n",
    "                \n",
    "        if errors:\n",
    "            raise KeyError(\"\\n\".join(errors))\n",
    "            \n",
    "        # Topology (edges).\n",
    "        self.topology = {}\n",
    "        for node, specification in self.specification.items():\n",
    "            self.topology[node] = [\n",
    "                value[0]\n",
    "                for name, value in specification[\"inputs\"].items()\n",
    "                if isinstance(value, tuple) and len(value) == 2\n",
    "            ]\n",
    "            \n",
    "        # Topological order.\n",
    "        self.node_order = kahns_algorithm(self.topology, incoming=True)\n",
    "        if not self.node_order:\n",
    "            raise Exception(\"The graph is cyclic!\")\n",
    "            \n",
    "        # Optimization.\n",
    "        self.free_inputs = None\n",
    "        self.optimize_on = None\n",
    "        \n",
    "    def run(self):\n",
    "        \n",
    "        inputs = {}\n",
    "        outputs = {}\n",
    "        for node in self.topology:\n",
    "            # Substitute tuple inputs with outputs from prior nodes.\n",
    "            inputs[node] = self.specification[node][\"inputs\"].copy()\n",
    "            for input_name, value in inputs[node].items():\n",
    "                if not isinstance(value, tuple):\n",
    "                    continue\n",
    "                try:\n",
    "                    incoming_node = value[0]\n",
    "                    incoming_variable = value[1]\n",
    "                    incoming_value = outputs[incoming_node][incoming_variable]\n",
    "                    inputs[node][input_name] = incoming_value\n",
    "                except KeyError:\n",
    "                    raise KeyError(f\"Invalid inputs for\")\n",
    "        \n",
    "            # Execute, storing the outputs.\n",
    "            outputs[node] = self.processes[node].run(inputs[node])\n",
    "            \n",
    "        return inputs, outputs\n",
    "        \n",
    "        \n",
    "    def set_optimisation_parameters(self, free_inputs: list, optimise_on: tuple):\n",
    "        \n",
    "        self.free_inputs = free_inputs\n",
    "        self.optimize_on = optimise_on\n",
    "        \n",
    "        errors = []\n",
    "        for node, variable in free_inputs:\n",
    "            if node not in self.specification:\n",
    "                errors.append(f\"Node {node}: There is no such node.\")\n",
    "            elif variable not in self.specification[node][\"inputs\"]:\n",
    "                errors.append(f\"Node {node}: There is no input called {variable}.\")\n",
    "            elif isinstance(self.specification[node][\"inputs\"][variable], tuple):\n",
    "                errors.append(f\"Node {node}: Input {variable} is an edge.\")\n",
    "                \n",
    "        node, variable = optimise_on\n",
    "        if node not in self.processes:\n",
    "            errors.append(f\"Node {node}: There is no such node.\")\n",
    "        elif variable not in self.processes[node].outputs:\n",
    "            errors.append(f\"Node {node}: There is no output called {variable}.\")\n",
    "        \n",
    "        if errors:\n",
    "            raise KeyError(\"\\n\".join(errors))\n",
    "            \n",
    "    \n",
    "    def optimize_func(*vargs):\n",
    "        \n",
    "        if len(vargs) < len(self.free_inputs):\n",
    "            raise ValueError(\"There are not enough variables to optimize.\")\n",
    "        \n",
    "        for i, (node, variable) in enumerate(self.free_inputs):\n",
    "            self.specification[node][\"inputs\"][variable] = vargs[i]\n",
    "            \n",
    "        _, outputs = self.run()\n",
    "        node, variable = self.optimize_on\n",
    "        return outputs[node][variable]\n",
    "        \n",
    "        \n",
    "\n",
    "graph = Graph(graph_specification, list(processes.values()))"
   ]
  },
  {
   "cell_type": "code",
   "execution_count": 99,
   "id": "1387492d",
   "metadata": {},
   "outputs": [
    {
     "name": "stdout",
     "output_type": "stream",
     "text": [
      "{'node a': {'x': 2.1, 'y': 16.5}, 'node b': {'x': 18.6, 'y': 5.4}, 'node c': {'a': 18.6, 'b': 24.0}}\n",
      "====================\n",
      "{'node a': {'z': 18.6}, 'node b': {'z': 24.0}, 'node c': {'x': 0.7750000357627869}}\n"
     ]
    }
   ],
   "source": [
    "inputs, outputs = graph.run()\n",
    "print(inputs)\n",
    "print(\"=\"*20)\n",
    "print(outputs)"
   ]
  },
  {
   "cell_type": "code",
   "execution_count": 105,
   "id": "6a90287b",
   "metadata": {},
   "outputs": [],
   "source": [
    "graph.set_optimisation_parameters(\n",
    "    free_inputs = [(\"node a\", \"x\"), (\"node b\", \"y\")],\n",
    "    optimise_on = (\"node c\", \"z\")\n",
    ")"
   ]
  },
  {
   "cell_type": "code",
   "execution_count": null,
   "id": "47286f95",
   "metadata": {},
   "outputs": [],
   "source": []
  },
  {
   "cell_type": "code",
   "execution_count": null,
   "id": "b4712e5c",
   "metadata": {},
   "outputs": [],
   "source": []
  },
  {
   "cell_type": "code",
   "execution_count": null,
   "id": "351e7206",
   "metadata": {},
   "outputs": [],
   "source": []
  },
  {
   "cell_type": "markdown",
   "id": "fecb45c5",
   "metadata": {},
   "source": [
    "### Stop containers"
   ]
  },
  {
   "cell_type": "code",
   "execution_count": 16,
   "id": "cef2d5f9",
   "metadata": {},
   "outputs": [
    {
     "name": "stdout",
     "output_type": "stream",
     "text": [
      "multiple_divide\n",
      "add_subtract\n"
     ]
    }
   ],
   "source": [
    "for container in containers:\n",
    "    container.stop()"
   ]
  },
  {
   "cell_type": "code",
   "execution_count": null,
   "id": "441b9bd3",
   "metadata": {
    "collapsed": true
   },
   "outputs": [],
   "source": [
    "# echo '{\"x\": 11.98769, \"y\": 186.78}' | docker exec -i some-node-a python run.py\n"
   ]
  },
  {
   "cell_type": "markdown",
   "id": "3106d3fc",
   "metadata": {},
   "source": [
    "## Close client"
   ]
  },
  {
   "cell_type": "code",
   "execution_count": 42,
   "id": "ab228ec8",
   "metadata": {},
   "outputs": [],
   "source": [
    "client.close()"
   ]
  },
  {
   "cell_type": "code",
   "execution_count": null,
   "id": "5ffb66f1",
   "metadata": {
    "collapsed": true
   },
   "outputs": [],
   "source": []
  },
  {
   "cell_type": "code",
   "execution_count": null,
   "id": "61dd109f",
   "metadata": {
    "collapsed": true
   },
   "outputs": [],
   "source": []
  }
 ],
 "metadata": {
  "kernelspec": {
   "display_name": "Python 3 (ipykernel)",
   "language": "python",
   "name": "python3"
  },
  "language_info": {
   "codemirror_mode": {
    "name": "ipython",
    "version": 3
   },
   "file_extension": ".py",
   "mimetype": "text/x-python",
   "name": "python",
   "nbconvert_exporter": "python",
   "pygments_lexer": "ipython3",
   "version": "3.7.1"
  }
 },
 "nbformat": 4,
 "nbformat_minor": 5
}
